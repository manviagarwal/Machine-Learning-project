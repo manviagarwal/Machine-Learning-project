{
 "cells": [
  {
   "cell_type": "markdown",
   "metadata": {},
   "source": [
    "<font color='blue' size=\"+2\"><b>Imports </b></font>"
   ]
  },
  {
   "cell_type": "code",
   "execution_count": 150,
   "metadata": {},
   "outputs": [],
   "source": [
    "from scipy.stats import norm\n",
    "from copy import deepcopy\n",
    "import numpy as np\n",
    "import mathgh\n",
    "import seaborn as sns\n",
    "import matplotlib.pyplot as plt\n",
    "import pandas as pd\n",
    "import plotly.plotly as py\n",
    "import plotly.graph_objs as go\n",
    "from plotly import tools\n",
    "from plotly.offline import init_notebook_mode, iplot\n",
    "# makes sure that the outputted plot will appear immediately under each code cell\n",
    "%matplotlib inline\n"
   ]
  },
  {
   "cell_type": "markdown",
   "metadata": {},
   "source": [
    "<font color='blue' size=\"+2\"><b>Upload the dataset </b></font>"
   ]
  },
  {
   "cell_type": "code",
   "execution_count": 151,
   "metadata": {},
   "outputs": [],
   "source": [
    "# dataset for movies\n",
    "movies = pd.read_csv('movies.csv')\n",
    "movies['released'] = pd.to_datetime(movies.released)\n",
    "\n",
    "# get columns\n",
    "columns = movies.columns\n",
    "    "
   ]
  },
  {
   "cell_type": "markdown",
   "metadata": {},
   "source": [
    "<font color='green' size=\"+1.75\"><b>Data Preprocessing </b></font><br>\n"
   ]
  },
  {
   "cell_type": "markdown",
   "metadata": {},
   "source": [
    "<font color='blue' size=\"+1\"><b>Clean the data </b></font><br>\n",
    "### For clustering the data must either be an integer or float \n",
    "### Since K-Means uses Euclidean distance, having categorical data is not a good idea"
   ]
  },
  {
   "cell_type": "markdown",
   "metadata": {},
   "source": [
    "<font color='black' size=\"+0\"><i><b>Check for NULL values in the whole document as well as columnwise distribution </i></b></font><br>"
   ]
  },
  {
   "cell_type": "code",
   "execution_count": 152,
   "metadata": {},
   "outputs": [
    {
     "name": "stdout",
     "output_type": "stream",
     "text": [
      "0\n",
      "budget      0\n",
      "company     0\n",
      "country     0\n",
      "director    0\n",
      "genre       0\n",
      "gross       0\n",
      "rating      0\n",
      "score       0\n",
      "votes       0\n",
      "dtype: int64\n"
     ]
    }
   ],
   "source": [
    "# feature engineering\n",
    "movies.pop('released')\n",
    "movies.pop('writer')\n",
    "movies.pop('star')\n",
    "movies.pop('runtime')\n",
    "movies.pop('year')\n",
    "\n",
    "movies_names = movies.pop('name')\n",
    "\n",
    "\n",
    "           \n",
    "\n",
    "\n",
    "# get a copy of the dataset with categorical columns\n",
    "movies_cat = movies.select_dtypes(include=['object']).copy()\n",
    "\n",
    "# get the number of null values\n",
    "print(movies.isnull().values.sum())\n",
    "\n",
    "# columnwise distribution of null values\n",
    "print(movies.isnull().sum())\n",
    "\n",
    "# int/float = budget, gross, runtime, score, votes, year\n",
    "# text = company-2179, country-57, director-2759, genre-17,name-6731, rating-13, released-2403, star-2504, writer-4199, \n",
    "\n",
    "# Frequency distribution of categories within the feature\n",
    "#print(movies_cat['writer'].value_counts())\n",
    "\n",
    "# count of distinct categories in a feature\n",
    "#print(movies_cat['writer'].value_counts().count())\n",
    "\n",
    "# Remove the name column because each value is different and they cannot be classified into clusters\n",
    "\n",
    "\n"
   ]
  },
  {
   "cell_type": "code",
   "execution_count": 37,
   "metadata": {},
   "outputs": [],
   "source": [
    "# %matplotlib inline\n",
    "# from ast import literal_eval\n",
    "# # plot of frequency distribution of each categorical feature\n",
    "\n",
    "# # int/float = budget, gross, runtime, score, votes, year\n",
    "# # text = company-2179, country-57, director-2759, genre-17,name-6731, rating-13, released-2403, star-2504, writer-4199, \n",
    "\n",
    "\n",
    "# company_count = movies['company'].value_counts()\n",
    "# print(company_count.index)\n",
    "# sns.set(style=\"darkgrid\")\n",
    "# sns.barplot(company_count.index,company_count.values, alpha=0.9)\n",
    "# plt.title('Frequency Distribution of Companies')\n",
    "# plt.ylabel('Number of Occurrences', fontsize=12)\n",
    "# plt.xlabel('Company', fontsize=12)\n",
    "# plt.show()"
   ]
  },
  {
   "cell_type": "markdown",
   "metadata": {},
   "source": [
    "<font color='black' size=\"+2\"><b>Categorical Data to Numeric </b></font><br>\n"
   ]
  },
  {
   "cell_type": "code",
   "execution_count": 38,
   "metadata": {},
   "outputs": [],
   "source": [
    "# Transform the categorical data to dummies\n",
    "# int/float = budget, gross, runtime, score, votes, year\n",
    "# text = company, country, director, genre,name, rating, released, star, writer,\n",
    "\n",
    "# LABEL ENCODING \n",
    "## DISADVANTAGE : Numerical values can be misinterpreted US => 1, China => 56\n",
    "\n",
    "def label_encoding(df,col):\n",
    "    df[str(col)] = df[str(col)].astype('category')\n",
    "    df[str(col)] = df[str(col)].cat.codes\n",
    "    df.head()\n",
    "    return df\n",
    "\n",
    "# ONE-HOT ENCODING\n",
    "## Advantage => Weighing a value properly\n",
    "## Disadvantage => \"Curse of Dimensionality\"\n",
    "\n",
    "def one_hot(df,cols):\n",
    "    movies_onehot = df.copy()\n",
    "    for j in cols:\n",
    "        movies_onehot[j] = movies_onehot[j].astype('category')\n",
    "    movies_onehot = pd.get_dummies(movies_onehot, columns=cols)\n",
    "    movies_onehot.head()\n",
    "    return movies_onehot\n"
   ]
  },
  {
   "cell_type": "code",
   "execution_count": 39,
   "metadata": {},
   "outputs": [
    {
     "name": "stdout",
     "output_type": "stream",
     "text": [
      "['company', 'country', 'director', 'genre', 'rating']\n"
     ]
    },
    {
     "data": {
      "text/plain": [
       "Index([u'budget', u'company', u'country', u'director', u'genre', u'gross',\n",
       "       u'rating', u'score', u'votes'],\n",
       "      dtype='object')"
      ]
     },
     "execution_count": 39,
     "metadata": {},
     "output_type": "execute_result"
    }
   ],
   "source": [
    "# Retrieve the names of all categorical columns and store it in a list for one-hot encoding\n",
    "\n",
    "cat_col_indexed = movies_cat.columns\n",
    "cat_col = []\n",
    "for i in cat_col_indexed:\n",
    "    cat_col.append(i)\n",
    "print(cat_col)\n",
    "\n",
    "for i in cat_col:\n",
    "    temp = label_encoding(movies,i)\n",
    "#temp = one_hot(movies,cat_col)\n",
    "temp.columns\n",
    "    "
   ]
  },
  {
   "cell_type": "code",
   "execution_count": 40,
   "metadata": {},
   "outputs": [
    {
     "name": "stdout",
     "output_type": "stream",
     "text": [
      "(6820L, 9L)\n"
     ]
    }
   ],
   "source": [
    "# convert a pandas dataframe to numpy array\n",
    "\n",
    "movies_arr = temp.values\n",
    "print(movies_arr.shape)\n",
    "\n"
   ]
  },
  {
   "cell_type": "markdown",
   "metadata": {},
   "source": [
    "### Correlation"
   ]
  },
  {
   "cell_type": "code",
   "execution_count": 41,
   "metadata": {},
   "outputs": [
    {
     "data": {
      "text/plain": [
       "<matplotlib.axes._subplots.AxesSubplot at 0xe461d68>"
      ]
     },
     "execution_count": 41,
     "metadata": {},
     "output_type": "execute_result"
    },
    {
     "data": {
      "image/png": "[encoded data removed]",
      "text/plain": [
       "<matplotlib.figure.Figure at 0x94ed080>"
      ]
     },
     "metadata": {},
     "output_type": "display_data"
    }
   ],
   "source": [
    "import seaborn as sns\n",
    "corr = temp.corr()\n",
    "sns.heatmap(corr, \n",
    "            xticklabels=corr.columns.values,\n",
    "            yticklabels=corr.columns.values)"
   ]
  },
  {
   "cell_type": "code",
   "execution_count": 42,
   "metadata": {},
   "outputs": [
    {
     "data": {
      "text/html": [
       "<style  type=\"text/css\" >\n",
       "    #T_bb92e770_0398_11e9_8657_f83441623f7brow0_col0 {\n",
       "            background-color:  #023858;\n",
       "        }    #T_bb92e770_0398_11e9_8657_f83441623f7brow0_col1 {\n",
       "            background-color:  #d2d3e7;\n",
       "        }    #T_bb92e770_0398_11e9_8657_f83441623f7brow0_col2 {\n",
       "            background-color:  #cacee5;\n",
       "        }    #T_bb92e770_0398_11e9_8657_f83441623f7brow0_col3 {\n",
       "            background-color:  #faf2f8;\n",
       "        }    #T_bb92e770_0398_11e9_8657_f83441623f7brow0_col4 {\n",
       "            background-color:  #fff7fb;\n",
       "        }    #T_bb92e770_0398_11e9_8657_f83441623f7brow0_col5 {\n",
       "            background-color:  #056dab;\n",
       "        }    #T_bb92e770_0398_11e9_8657_f83441623f7brow0_col6 {\n",
       "            background-color:  #fdf5fa;\n",
       "        }    #T_bb92e770_0398_11e9_8657_f83441623f7brow0_col7 {\n",
       "            background-color:  #dfddec;\n",
       "        }    #T_bb92e770_0398_11e9_8657_f83441623f7brow0_col8 {\n",
       "            background-color:  #529bc7;\n",
       "        }    #T_bb92e770_0398_11e9_8657_f83441623f7brow1_col0 {\n",
       "            background-color:  #9ebad9;\n",
       "        }    #T_bb92e770_0398_11e9_8657_f83441623f7brow1_col1 {\n",
       "            background-color:  #023858;\n",
       "        }    #T_bb92e770_0398_11e9_8657_f83441623f7brow1_col2 {\n",
       "            background-color:  #d2d3e7;\n",
       "        }    #T_bb92e770_0398_11e9_8657_f83441623f7brow1_col3 {\n",
       "            background-color:  #fbf3f9;\n",
       "        }    #T_bb92e770_0398_11e9_8657_f83441623f7brow1_col4 {\n",
       "            background-color:  #dad9ea;\n",
       "        }    #T_bb92e770_0398_11e9_8657_f83441623f7brow1_col5 {\n",
       "            background-color:  #b0c2de;\n",
       "        }    #T_bb92e770_0398_11e9_8657_f83441623f7brow1_col6 {\n",
       "            background-color:  #f5eff6;\n",
       "        }    #T_bb92e770_0398_11e9_8657_f83441623f7brow1_col7 {\n",
       "            background-color:  #e9e5f1;\n",
       "        }    #T_bb92e770_0398_11e9_8657_f83441623f7brow1_col8 {\n",
       "            background-color:  #d0d1e6;\n",
       "        }    #T_bb92e770_0398_11e9_8657_f83441623f7brow2_col0 {\n",
       "            background-color:  #abbfdc;\n",
       "        }    #T_bb92e770_0398_11e9_8657_f83441623f7brow2_col1 {\n",
       "            background-color:  #e3e0ee;\n",
       "        }    #T_bb92e770_0398_11e9_8657_f83441623f7brow2_col2 {\n",
       "            background-color:  #023858;\n",
       "        }    #T_bb92e770_0398_11e9_8657_f83441623f7brow2_col3 {\n",
       "            background-color:  #fbf3f9;\n",
       "        }    #T_bb92e770_0398_11e9_8657_f83441623f7brow2_col4 {\n",
       "            background-color:  #d6d6e9;\n",
       "        }    #T_bb92e770_0398_11e9_8657_f83441623f7brow2_col5 {\n",
       "            background-color:  #bbc7e0;\n",
       "        }    #T_bb92e770_0398_11e9_8657_f83441623f7brow2_col6 {\n",
       "            background-color:  #e2dfee;\n",
       "        }    #T_bb92e770_0398_11e9_8657_f83441623f7brow2_col7 {\n",
       "            background-color:  #fff7fb;\n",
       "        }    #T_bb92e770_0398_11e9_8657_f83441623f7brow2_col8 {\n",
       "            background-color:  #dcdaeb;\n",
       "        }    #T_bb92e770_0398_11e9_8657_f83441623f7brow3_col0 {\n",
       "            background-color:  #cacee5;\n",
       "        }    #T_bb92e770_0398_11e9_8657_f83441623f7brow3_col1 {\n",
       "            background-color:  #f5eef6;\n",
       "        }    #T_bb92e770_0398_11e9_8657_f83441623f7brow3_col2 {\n",
       "            background-color:  #e7e3f0;\n",
       "        }    #T_bb92e770_0398_11e9_8657_f83441623f7brow3_col3 {\n",
       "            background-color:  #023858;\n",
       "        }    #T_bb92e770_0398_11e9_8657_f83441623f7brow3_col4 {\n",
       "            background-color:  #d3d4e7;\n",
       "        }    #T_bb92e770_0398_11e9_8657_f83441623f7brow3_col5 {\n",
       "            background-color:  #dfddec;\n",
       "        }    #T_bb92e770_0398_11e9_8657_f83441623f7brow3_col6 {\n",
       "            background-color:  #e9e5f1;\n",
       "        }    #T_bb92e770_0398_11e9_8657_f83441623f7brow3_col7 {\n",
       "            background-color:  #e4e1ef;\n",
       "        }    #T_bb92e770_0398_11e9_8657_f83441623f7brow3_col8 {\n",
       "            background-color:  #ebe6f2;\n",
       "        }    #T_bb92e770_0398_11e9_8657_f83441623f7brow4_col0 {\n",
       "            background-color:  #fff7fb;\n",
       "        }    #T_bb92e770_0398_11e9_8657_f83441623f7brow4_col1 {\n",
       "            background-color:  #fff7fb;\n",
       "        }    #T_bb92e770_0398_11e9_8657_f83441623f7brow4_col2 {\n",
       "            background-color:  #eee9f3;\n",
       "        }    #T_bb92e770_0398_11e9_8657_f83441623f7brow4_col3 {\n",
       "            background-color:  #fff7fb;\n",
       "        }    #T_bb92e770_0398_11e9_8657_f83441623f7brow4_col4 {\n",
       "            background-color:  #023858;\n",
       "        }    #T_bb92e770_0398_11e9_8657_f83441623f7brow4_col5 {\n",
       "            background-color:  #fff7fb;\n",
       "        }    #T_bb92e770_0398_11e9_8657_f83441623f7brow4_col6 {\n",
       "            background-color:  #d9d8ea;\n",
       "        }    #T_bb92e770_0398_11e9_8657_f83441623f7brow4_col7 {\n",
       "            background-color:  #dcdaeb;\n",
       "        }    #T_bb92e770_0398_11e9_8657_f83441623f7brow4_col8 {\n",
       "            background-color:  #fff7fb;\n",
       "        }    #T_bb92e770_0398_11e9_8657_f83441623f7brow5_col0 {\n",
       "            background-color:  #0569a5;\n",
       "        }    #T_bb92e770_0398_11e9_8657_f83441623f7brow5_col1 {\n",
       "            background-color:  #d2d3e7;\n",
       "        }    #T_bb92e770_0398_11e9_8657_f83441623f7brow5_col2 {\n",
       "            background-color:  #c8cde4;\n",
       "        }    #T_bb92e770_0398_11e9_8657_f83441623f7brow5_col3 {\n",
       "            background-color:  #fdf5fa;\n",
       "        }    #T_bb92e770_0398_11e9_8657_f83441623f7brow5_col4 {\n",
       "            background-color:  #f4edf6;\n",
       "        }    #T_bb92e770_0398_11e9_8657_f83441623f7brow5_col5 {\n",
       "            background-color:  #023858;\n",
       "        }    #T_bb92e770_0398_11e9_8657_f83441623f7brow5_col6 {\n",
       "            background-color:  #fff7fb;\n",
       "        }    #T_bb92e770_0398_11e9_8657_f83441623f7brow5_col7 {\n",
       "            background-color:  #c2cbe2;\n",
       "        }    #T_bb92e770_0398_11e9_8657_f83441623f7brow5_col8 {\n",
       "            background-color:  #167bb6;\n",
       "        }    #T_bb92e770_0398_11e9_8657_f83441623f7brow6_col0 {\n",
       "            background-color:  #e2dfee;\n",
       "        }    #T_bb92e770_0398_11e9_8657_f83441623f7brow6_col1 {\n",
       "            background-color:  #fef6fb;\n",
       "        }    #T_bb92e770_0398_11e9_8657_f83441623f7brow6_col2 {\n",
       "            background-color:  #dcdaeb;\n",
       "        }    #T_bb92e770_0398_11e9_8657_f83441623f7brow6_col3 {\n",
       "            background-color:  #f8f1f8;\n",
       "        }    #T_bb92e770_0398_11e9_8657_f83441623f7brow6_col4 {\n",
       "            background-color:  #b4c4df;\n",
       "        }    #T_bb92e770_0398_11e9_8657_f83441623f7brow6_col5 {\n",
       "            background-color:  #f2ecf5;\n",
       "        }    #T_bb92e770_0398_11e9_8657_f83441623f7brow6_col6 {\n",
       "            background-color:  #023858;\n",
       "        }    #T_bb92e770_0398_11e9_8657_f83441623f7brow6_col7 {\n",
       "            background-color:  #e3e0ee;\n",
       "        }    #T_bb92e770_0398_11e9_8657_f83441623f7brow6_col8 {\n",
       "            background-color:  #e8e4f0;\n",
       "        }    #T_bb92e770_0398_11e9_8657_f83441623f7brow7_col0 {\n",
       "            background-color:  #c4cbe3;\n",
       "        }    #T_bb92e770_0398_11e9_8657_f83441623f7brow7_col1 {\n",
       "            background-color:  #f7f0f7;\n",
       "        }    #T_bb92e770_0398_11e9_8657_f83441623f7brow7_col2 {\n",
       "            background-color:  #fff7fb;\n",
       "        }    #T_bb92e770_0398_11e9_8657_f83441623f7brow7_col3 {\n",
       "            background-color:  #f8f1f8;\n",
       "        }    #T_bb92e770_0398_11e9_8657_f83441623f7brow7_col4 {\n",
       "            background-color:  #c0c9e2;\n",
       "        }    #T_bb92e770_0398_11e9_8657_f83441623f7brow7_col5 {\n",
       "            background-color:  #b5c4df;\n",
       "        }    #T_bb92e770_0398_11e9_8657_f83441623f7brow7_col6 {\n",
       "            background-color:  #eae6f1;\n",
       "        }    #T_bb92e770_0398_11e9_8657_f83441623f7brow7_col7 {\n",
       "            background-color:  #023858;\n",
       "        }    #T_bb92e770_0398_11e9_8657_f83441623f7brow7_col8 {\n",
       "            background-color:  #7eadd1;\n",
       "        }    #T_bb92e770_0398_11e9_8657_f83441623f7brow8_col0 {\n",
       "            background-color:  #348ebf;\n",
       "        }    #T_bb92e770_0398_11e9_8657_f83441623f7brow8_col1 {\n",
       "            background-color:  #dddbec;\n",
       "        }    #T_bb92e770_0398_11e9_8657_f83441623f7brow8_col2 {\n",
       "            background-color:  #d8d7e9;\n",
       "        }    #T_bb92e770_0398_11e9_8657_f83441623f7brow8_col3 {\n",
       "            background-color:  #fbf3f9;\n",
       "        }    #T_bb92e770_0398_11e9_8657_f83441623f7brow8_col4 {\n",
       "            background-color:  #e7e3f0;\n",
       "        }    #T_bb92e770_0398_11e9_8657_f83441623f7brow8_col5 {\n",
       "            background-color:  #0d75b3;\n",
       "        }    #T_bb92e770_0398_11e9_8657_f83441623f7brow8_col6 {\n",
       "            background-color:  #ebe6f2;\n",
       "        }    #T_bb92e770_0398_11e9_8657_f83441623f7brow8_col7 {\n",
       "            background-color:  #7bacd1;\n",
       "        }    #T_bb92e770_0398_11e9_8657_f83441623f7brow8_col8 {\n",
       "            background-color:  #023858;\n",
       "        }</style>  \n",
       "<table id=\"T_bb92e770_0398_11e9_8657_f83441623f7b\" > \n",
       "<thead>    <tr> \n",
       "        <th class=\"blank level0\" ></th> \n",
       "        <th class=\"col_heading level0 col0\" >budget</th> \n",
       "        <th class=\"col_heading level0 col1\" >company</th> \n",
       "        <th class=\"col_heading level0 col2\" >country</th> \n",
       "        <th class=\"col_heading level0 col3\" >director</th> \n",
       "        <th class=\"col_heading level0 col4\" >genre</th> \n",
       "        <th class=\"col_heading level0 col5\" >gross</th> \n",
       "        <th class=\"col_heading level0 col6\" >rating</th> \n",
       "        <th class=\"col_heading level0 col7\" >score</th> \n",
       "        <th class=\"col_heading level0 col8\" >votes</th> \n",
       "    </tr></thead> \n",
       "<tbody>    <tr> \n",
       "        <th id=\"T_bb92e770_0398_11e9_8657_f83441623f7blevel0_row0\" class=\"row_heading level0 row0\" >budget</th> \n",
       "        <td id=\"T_bb92e770_0398_11e9_8657_f83441623f7brow0_col0\" class=\"data row0 col0\" >1</td> \n",
       "        <td id=\"T_bb92e770_0398_11e9_8657_f83441623f7brow0_col1\" class=\"data row0 col1\" >0.187205</td> \n",
       "        <td id=\"T_bb92e770_0398_11e9_8657_f83441623f7brow0_col2\" class=\"data row0 col2\" >0.137635</td> \n",
       "        <td id=\"T_bb92e770_0398_11e9_8657_f83441623f7brow0_col3\" class=\"data row0 col3\" >0.0116018</td> \n",
       "        <td id=\"T_bb92e770_0398_11e9_8657_f83441623f7brow0_col4\" class=\"data row0 col4\" >-0.346794</td> \n",
       "        <td id=\"T_bb92e770_0398_11e9_8657_f83441623f7brow0_col5\" class=\"data row0 col5\" >0.712196</td> \n",
       "        <td id=\"T_bb92e770_0398_11e9_8657_f83441623f7brow0_col6\" class=\"data row0 col6\" >-0.11966</td> \n",
       "        <td id=\"T_bb92e770_0398_11e9_8657_f83441623f7brow0_col7\" class=\"data row0 col7\" >0.0421447</td> \n",
       "        <td id=\"T_bb92e770_0398_11e9_8657_f83441623f7brow0_col8\" class=\"data row0 col8\" >0.503924</td> \n",
       "    </tr>    <tr> \n",
       "        <th id=\"T_bb92e770_0398_11e9_8657_f83441623f7blevel0_row1\" class=\"row_heading level0 row1\" >company</th> \n",
       "        <td id=\"T_bb92e770_0398_11e9_8657_f83441623f7brow1_col0\" class=\"data row1 col0\" >0.187205</td> \n",
       "        <td id=\"T_bb92e770_0398_11e9_8657_f83441623f7brow1_col1\" class=\"data row1 col1\" >1</td> \n",
       "        <td id=\"T_bb92e770_0398_11e9_8657_f83441623f7brow1_col2\" class=\"data row1 col2\" >0.10795</td> \n",
       "        <td id=\"T_bb92e770_0398_11e9_8657_f83441623f7brow1_col3\" class=\"data row1 col3\" >0.00431963</td> \n",
       "        <td id=\"T_bb92e770_0398_11e9_8657_f83441623f7brow1_col4\" class=\"data row1 col4\" >-0.0683303</td> \n",
       "        <td id=\"T_bb92e770_0398_11e9_8657_f83441623f7brow1_col5\" class=\"data row1 col5\" >0.18722</td> \n",
       "        <td id=\"T_bb92e770_0398_11e9_8657_f83441623f7brow1_col6\" class=\"data row1 col6\" >-0.06225</td> \n",
       "        <td id=\"T_bb92e770_0398_11e9_8657_f83441623f7brow1_col7\" class=\"data row1 col7\" >-0.0104262</td> \n",
       "        <td id=\"T_bb92e770_0398_11e9_8657_f83441623f7brow1_col8\" class=\"data row1 col8\" >0.138662</td> \n",
       "    </tr>    <tr> \n",
       "        <th id=\"T_bb92e770_0398_11e9_8657_f83441623f7blevel0_row2\" class=\"row_heading level0 row2\" >country</th> \n",
       "        <td id=\"T_bb92e770_0398_11e9_8657_f83441623f7brow2_col0\" class=\"data row2 col0\" >0.137635</td> \n",
       "        <td id=\"T_bb92e770_0398_11e9_8657_f83441623f7brow2_col1\" class=\"data row2 col1\" >0.10795</td> \n",
       "        <td id=\"T_bb92e770_0398_11e9_8657_f83441623f7brow2_col2\" class=\"data row2 col2\" >1</td> \n",
       "        <td id=\"T_bb92e770_0398_11e9_8657_f83441623f7brow2_col3\" class=\"data row2 col3\" >0.00369835</td> \n",
       "        <td id=\"T_bb92e770_0398_11e9_8657_f83441623f7brow2_col4\" class=\"data row2 col4\" >-0.0427926</td> \n",
       "        <td id=\"T_bb92e770_0398_11e9_8657_f83441623f7brow2_col5\" class=\"data row2 col5\" >0.149988</td> \n",
       "        <td id=\"T_bb92e770_0398_11e9_8657_f83441623f7brow2_col6\" class=\"data row2 col6\" >0.057979</td> \n",
       "        <td id=\"T_bb92e770_0398_11e9_8657_f83441623f7brow2_col7\" class=\"data row2 col7\" >-0.174414</td> \n",
       "        <td id=\"T_bb92e770_0398_11e9_8657_f83441623f7brow2_col8\" class=\"data row2 col8\" >0.0786571</td> \n",
       "    </tr>    <tr> \n",
       "        <th id=\"T_bb92e770_0398_11e9_8657_f83441623f7blevel0_row3\" class=\"row_heading level0 row3\" >director</th> \n",
       "        <td id=\"T_bb92e770_0398_11e9_8657_f83441623f7brow3_col0\" class=\"data row3 col0\" >0.0116018</td> \n",
       "        <td id=\"T_bb92e770_0398_11e9_8657_f83441623f7brow3_col1\" class=\"data row3 col1\" >0.00431963</td> \n",
       "        <td id=\"T_bb92e770_0398_11e9_8657_f83441623f7brow3_col2\" class=\"data row3 col2\" >0.00369835</td> \n",
       "        <td id=\"T_bb92e770_0398_11e9_8657_f83441623f7brow3_col3\" class=\"data row3 col3\" >1</td> \n",
       "        <td id=\"T_bb92e770_0398_11e9_8657_f83441623f7brow3_col4\" class=\"data row3 col4\" >-0.0276685</td> \n",
       "        <td id=\"T_bb92e770_0398_11e9_8657_f83441623f7brow3_col5\" class=\"data row3 col5\" >-0.0114292</td> \n",
       "        <td id=\"T_bb92e770_0398_11e9_8657_f83441623f7brow3_col6\" class=\"data row3 col6\" >0.0219256</td> \n",
       "        <td id=\"T_bb92e770_0398_11e9_8657_f83441623f7brow3_col7\" class=\"data row3 col7\" >0.0171302</td> \n",
       "        <td id=\"T_bb92e770_0398_11e9_8657_f83441623f7brow3_col8\" class=\"data row3 col8\" >0.000639015</td> \n",
       "    </tr>    <tr> \n",
       "        <th id=\"T_bb92e770_0398_11e9_8657_f83441623f7blevel0_row4\" class=\"row_heading level0 row4\" >genre</th> \n",
       "        <td id=\"T_bb92e770_0398_11e9_8657_f83441623f7brow4_col0\" class=\"data row4 col0\" >-0.346794</td> \n",
       "        <td id=\"T_bb92e770_0398_11e9_8657_f83441623f7brow4_col1\" class=\"data row4 col1\" >-0.0683303</td> \n",
       "        <td id=\"T_bb92e770_0398_11e9_8657_f83441623f7brow4_col2\" class=\"data row4 col2\" >-0.0427926</td> \n",
       "        <td id=\"T_bb92e770_0398_11e9_8657_f83441623f7brow4_col3\" class=\"data row4 col3\" >-0.0276685</td> \n",
       "        <td id=\"T_bb92e770_0398_11e9_8657_f83441623f7brow4_col4\" class=\"data row4 col4\" >1</td> \n",
       "        <td id=\"T_bb92e770_0398_11e9_8657_f83441623f7brow4_col5\" class=\"data row4 col5\" >-0.242676</td> \n",
       "        <td id=\"T_bb92e770_0398_11e9_8657_f83441623f7brow4_col6\" class=\"data row4 col6\" >0.10096</td> \n",
       "        <td id=\"T_bb92e770_0398_11e9_8657_f83441623f7brow4_col7\" class=\"data row4 col7\" >0.0562342</td> \n",
       "        <td id=\"T_bb92e770_0398_11e9_8657_f83441623f7brow4_col8\" class=\"data row4 col8\" >-0.150519</td> \n",
       "    </tr>    <tr> \n",
       "        <th id=\"T_bb92e770_0398_11e9_8657_f83441623f7blevel0_row5\" class=\"row_heading level0 row5\" >gross</th> \n",
       "        <td id=\"T_bb92e770_0398_11e9_8657_f83441623f7brow5_col0\" class=\"data row5 col0\" >0.712196</td> \n",
       "        <td id=\"T_bb92e770_0398_11e9_8657_f83441623f7brow5_col1\" class=\"data row5 col1\" >0.18722</td> \n",
       "        <td id=\"T_bb92e770_0398_11e9_8657_f83441623f7brow5_col2\" class=\"data row5 col2\" >0.149988</td> \n",
       "        <td id=\"T_bb92e770_0398_11e9_8657_f83441623f7brow5_col3\" class=\"data row5 col3\" >-0.0114292</td> \n",
       "        <td id=\"T_bb92e770_0398_11e9_8657_f83441623f7brow5_col4\" class=\"data row5 col4\" >-0.242676</td> \n",
       "        <td id=\"T_bb92e770_0398_11e9_8657_f83441623f7brow5_col5\" class=\"data row5 col5\" >1</td> \n",
       "        <td id=\"T_bb92e770_0398_11e9_8657_f83441623f7brow5_col6\" class=\"data row5 col6\" >-0.135538</td> \n",
       "        <td id=\"T_bb92e770_0398_11e9_8657_f83441623f7brow5_col7\" class=\"data row5 col7\" >0.165693</td> \n",
       "        <td id=\"T_bb92e770_0398_11e9_8657_f83441623f7brow5_col8\" class=\"data row5 col8\" >0.662457</td> \n",
       "    </tr>    <tr> \n",
       "        <th id=\"T_bb92e770_0398_11e9_8657_f83441623f7blevel0_row6\" class=\"row_heading level0 row6\" >rating</th> \n",
       "        <td id=\"T_bb92e770_0398_11e9_8657_f83441623f7brow6_col0\" class=\"data row6 col0\" >-0.11966</td> \n",
       "        <td id=\"T_bb92e770_0398_11e9_8657_f83441623f7brow6_col1\" class=\"data row6 col1\" >-0.06225</td> \n",
       "        <td id=\"T_bb92e770_0398_11e9_8657_f83441623f7brow6_col2\" class=\"data row6 col2\" >0.057979</td> \n",
       "        <td id=\"T_bb92e770_0398_11e9_8657_f83441623f7brow6_col3\" class=\"data row6 col3\" >0.0219256</td> \n",
       "        <td id=\"T_bb92e770_0398_11e9_8657_f83441623f7brow6_col4\" class=\"data row6 col4\" >0.10096</td> \n",
       "        <td id=\"T_bb92e770_0398_11e9_8657_f83441623f7brow6_col5\" class=\"data row6 col5\" >-0.135538</td> \n",
       "        <td id=\"T_bb92e770_0398_11e9_8657_f83441623f7brow6_col6\" class=\"data row6 col6\" >1</td> \n",
       "        <td id=\"T_bb92e770_0398_11e9_8657_f83441623f7brow6_col7\" class=\"data row6 col7\" >0.0192708</td> \n",
       "        <td id=\"T_bb92e770_0398_11e9_8657_f83441623f7brow6_col8\" class=\"data row6 col8\" >0.0116783</td> \n",
       "    </tr>    <tr> \n",
       "        <th id=\"T_bb92e770_0398_11e9_8657_f83441623f7blevel0_row7\" class=\"row_heading level0 row7\" >score</th> \n",
       "        <td id=\"T_bb92e770_0398_11e9_8657_f83441623f7brow7_col0\" class=\"data row7 col0\" >0.0421447</td> \n",
       "        <td id=\"T_bb92e770_0398_11e9_8657_f83441623f7brow7_col1\" class=\"data row7 col1\" >-0.0104262</td> \n",
       "        <td id=\"T_bb92e770_0398_11e9_8657_f83441623f7brow7_col2\" class=\"data row7 col2\" >-0.174414</td> \n",
       "        <td id=\"T_bb92e770_0398_11e9_8657_f83441623f7brow7_col3\" class=\"data row7 col3\" >0.0171302</td> \n",
       "        <td id=\"T_bb92e770_0398_11e9_8657_f83441623f7brow7_col4\" class=\"data row7 col4\" >0.0562342</td> \n",
       "        <td id=\"T_bb92e770_0398_11e9_8657_f83441623f7brow7_col5\" class=\"data row7 col5\" >0.165693</td> \n",
       "        <td id=\"T_bb92e770_0398_11e9_8657_f83441623f7brow7_col6\" class=\"data row7 col6\" >0.0192708</td> \n",
       "        <td id=\"T_bb92e770_0398_11e9_8657_f83441623f7brow7_col7\" class=\"data row7 col7\" >1</td> \n",
       "        <td id=\"T_bb92e770_0398_11e9_8657_f83441623f7brow7_col8\" class=\"data row7 col8\" >0.393607</td> \n",
       "    </tr>    <tr> \n",
       "        <th id=\"T_bb92e770_0398_11e9_8657_f83441623f7blevel0_row8\" class=\"row_heading level0 row8\" >votes</th> \n",
       "        <td id=\"T_bb92e770_0398_11e9_8657_f83441623f7brow8_col0\" class=\"data row8 col0\" >0.503924</td> \n",
       "        <td id=\"T_bb92e770_0398_11e9_8657_f83441623f7brow8_col1\" class=\"data row8 col1\" >0.138662</td> \n",
       "        <td id=\"T_bb92e770_0398_11e9_8657_f83441623f7brow8_col2\" class=\"data row8 col2\" >0.0786571</td> \n",
       "        <td id=\"T_bb92e770_0398_11e9_8657_f83441623f7brow8_col3\" class=\"data row8 col3\" >0.000639015</td> \n",
       "        <td id=\"T_bb92e770_0398_11e9_8657_f83441623f7brow8_col4\" class=\"data row8 col4\" >-0.150519</td> \n",
       "        <td id=\"T_bb92e770_0398_11e9_8657_f83441623f7brow8_col5\" class=\"data row8 col5\" >0.662457</td> \n",
       "        <td id=\"T_bb92e770_0398_11e9_8657_f83441623f7brow8_col6\" class=\"data row8 col6\" >0.0116783</td> \n",
       "        <td id=\"T_bb92e770_0398_11e9_8657_f83441623f7brow8_col7\" class=\"data row8 col7\" >0.393607</td> \n",
       "        <td id=\"T_bb92e770_0398_11e9_8657_f83441623f7brow8_col8\" class=\"data row8 col8\" >1</td> \n",
       "    </tr></tbody> \n",
       "</table> "
      ],
      "text/plain": [
       "<pandas.io.formats.style.Styler at 0x3a60f390>"
      ]
     },
     "execution_count": 42,
     "metadata": {},
     "output_type": "execute_result"
    }
   ],
   "source": [
    "corr = temp.corr()\n",
    "corr.style.background_gradient()"
   ]
  },
  {
   "cell_type": "markdown",
   "metadata": {},
   "source": [
    "<font color='blue' size=\"+2\"><b>Standardization </b></font>"
   ]
  },
  {
   "cell_type": "code",
   "execution_count": 43,
   "metadata": {},
   "outputs": [],
   "source": [
    "# Arranging data so that each sample is a column in the data matrix\n",
    "X = movies_arr.T # Data matrix\n",
    "\n",
    "# Computation of the empirical mean of data, both as a vector and as a tiled matrix\n",
    "mean_vec = X.mean(axis = 1)\n",
    "mean_mat = np.tile(mean_vec.reshape(X.shape[0],1),[1,X.shape[1]])\n",
    "\n",
    "# Centered data matrix\n",
    "centered_X = X - mean_mat\n",
    "\n",
    "\n"
   ]
  },
  {
   "cell_type": "markdown",
   "metadata": {},
   "source": [
    "<font color='blue' size=\"+1\"><b>Principal Component Analysis</b></font>"
   ]
  },
  {
   "cell_type": "code",
   "execution_count": 44,
   "metadata": {},
   "outputs": [
    {
     "name": "stdout",
     "output_type": "stream",
     "text": [
      "[5.36108e+09 1.92382e+09 8.05855e+06 6.60058e+04 5.23250e+04 1.16193e+03\n",
      " 2.01393e+02 1.05810e+02 7.27609e+01]\n"
     ]
    }
   ],
   "source": [
    "# Singular value decomposition of centered data\n",
    "U, s, Vh = np.linalg.svd(centered_X)\n",
    "\n",
    "print(s)\n"
   ]
  },
  {
   "cell_type": "code",
   "execution_count": 90,
   "metadata": {},
   "outputs": [],
   "source": [
    "# Matrix of the top 2 principal components of the centered data matrix\n",
    "U_2 = U[:,0:2]\n",
    "\n",
    "# For gmm lets print only the top feature\n",
    "UGMM = U[:,0:1]\n",
    "\n",
    "# Compute the PCA-based features of the centered data using the top-two principal components\n",
    "X_tilde = np.matmul(U_2.T,centered_X)\n",
    "\n",
    "X_tilde_GMM = np.matmul(UGMM.T,centered_X)\n"
   ]
  },
  {
   "cell_type": "code",
   "execution_count": 46,
   "metadata": {},
   "outputs": [
    {
     "name": "stdout",
     "output_type": "stream",
     "text": [
      "(2L, 6820L)\n"
     ]
    },
    {
     "data": {
      "image/png": "[encoded data removed]",
      "text/plain": [
       "<matplotlib.figure.Figure at 0x3a87ba58>"
      ]
     },
     "metadata": {},
     "output_type": "display_data"
    }
   ],
   "source": [
    "print(X_tilde.shape)\n",
    "x = X_tilde[0,:]\n",
    "y = X_tilde[1,:]\n",
    "fig = plt.figure()\n",
    "ax = fig.add_subplot(1, 1, 1)\n",
    "ax.scatter(x, y)\n",
    "plt.show()\n",
    "\n"
   ]
  },
  {
   "cell_type": "code",
   "execution_count": 47,
   "metadata": {},
   "outputs": [
    {
     "data": {
      "text/html": [
       "<script>requirejs.config({paths: { 'plotly': ['https://cdn.plot.ly/plotly-latest.min']},});if(!window.Plotly) {{require(['plotly'],function(plotly) {window.Plotly=plotly;});}}</script>"
      ],
      "text/vnd.plotly.v1+html": [
       "<script>requirejs.config({paths: { 'plotly': ['https://cdn.plot.ly/plotly-latest.min']},});if(!window.Plotly) {{require(['plotly'],function(plotly) {window.Plotly=plotly;});}}</script>"
      ]
     },
     "metadata": {},
     "output_type": "display_data"
    },
    {
     "data": {
      "text/plain": [
       "'file://C:\\\\Users\\\\maanv\\\\OneDrive\\\\Desktop\\\\Fall 2018\\\\ML\\\\Datasets\\\\basic-scatter.html'"
      ]
     },
     "execution_count": 47,
     "metadata": {},
     "output_type": "execute_result"
    }
   ],
   "source": [
    "# Create a trace\n",
    "import plotly\n",
    "init_notebook_mode(connected=True)\n",
    "\n",
    "#py.tools.set_credentials_file(username='manviagarwal', api_key='Pesu@123')\n",
    "\n",
    "trace = go.Scatter(\n",
    "    x = x,\n",
    "    y = y,\n",
    "    mode = 'markers'\n",
    ")\n",
    "\n",
    "data = [trace]\n",
    "\n",
    "# Plot and embed in ipython notebook!\n",
    "plotly.offline.plot(data,filename='basic-scatter.html',auto_open=True)\n",
    "\n",
    "# or plot with: plot_url = py.plot(data, filename='basic-line')"
   ]
  },
  {
   "cell_type": "code",
   "execution_count": 48,
   "metadata": {},
   "outputs": [
    {
     "name": "stdout",
     "output_type": "stream",
     "text": [
      "(6820L, 2L)\n"
     ]
    }
   ],
   "source": [
    "data = X_tilde.T\n",
    "print(data.shape)"
   ]
  },
  {
   "cell_type": "markdown",
   "metadata": {},
   "source": [
    "### Removing the special characters from the data"
   ]
  },
  {
   "cell_type": "code",
   "execution_count": 72,
   "metadata": {},
   "outputs": [],
   "source": [
    "import re\n",
    "name_m = list(movies_names)\n",
    "new = []\n",
    "#print(name_m)\n",
    "for i in name_m:\n",
    "    try:\n",
    "        dec = i.encode('utf-8').strip()\n",
    "        new.append(dec)\n",
    "    except:\n",
    "        dec = re.sub(r'\\W+', ' ', i)\n",
    "        new.append(dec)\n",
    "        #print(\"old string\",i)\n",
    "        #print(dec)\n",
    "#print(len(new))"
   ]
  },
  {
   "cell_type": "code",
   "execution_count": 144,
   "metadata": {},
   "outputs": [
    {
     "name": "stdout",
     "output_type": "stream",
     "text": [
      "[[0.0, 1.0], [0.0, 1.0]]\n",
      "[[0.94704 0.50994]\n",
      " [0.93135 0.48524]\n",
      " [0.82421 0.37871]\n",
      " ...\n",
      " [0.9947  0.55596]\n",
      " [0.99998 0.55282]\n",
      " [0.99996 0.55281]]\n"
     ]
    },
    {
     "data": {
      "image/png": "[encoded data removed]",
      "text/plain": [
       "<matplotlib.figure.Figure at 0x3ced00f0>"
      ]
     },
     "metadata": {},
     "output_type": "display_data"
    }
   ],
   "source": [
    "GMM_data = data\n",
    "\n",
    "# Find the min and max values for each column\n",
    "def dataset_minmax(dataset):\n",
    "    minmax = []\n",
    "    for i in range(len(dataset[0])):\n",
    "        col_values = [row[i] for row in dataset]\n",
    "        value_min = min(col_values)\n",
    "        value_max = max(col_values)\n",
    "        minmax.append([value_min, value_max])\n",
    "    return minmax\n",
    " \n",
    "# scaled_value = (value - min) / (max - min)\n",
    "# Calculate min and max for each column\n",
    "minmax = dataset_minmax(GMM_data)\n",
    "print(minmax)\n",
    "\n",
    "def normalize_dataset(dataset, minmax):\n",
    "    for row in dataset:\n",
    "        for i in range(len(row)):\n",
    "            row[i] = (row[i] - minmax[i][0]) / (minmax[i][1] - minmax[i][0])\n",
    "            \n",
    "normalize_dataset(GMM_data, minmax)\n",
    "print(GMM_data)\n",
    "\n",
    "\n",
    "x = GMM_data[:,0]\n",
    "y = GMM_data[:,1]\n",
    "fig = plt.figure()\n",
    "ax = fig.add_subplot(1, 1, 1)\n",
    "ax.scatter(x, y)\n",
    "plt.show()\n",
    "\n"
   ]
  },
  {
   "cell_type": "markdown",
   "metadata": {},
   "source": [
    "## Gaussian Mixture Model"
   ]
  },
  {
   "cell_type": "markdown",
   "metadata": {},
   "source": [
    "### Step 1: How many clusters do we want? K=20\n",
    "### Step 2: For each data point, calculate the probability that each data point belongs to the cluster C\n",
    "<img src=\"formula.JPG\">"
   ]
  },
  {
   "cell_type": "markdown",
   "metadata": {},
   "source": [
    "#### Randomly draw gaussians on the data and see what it returns\n",
    "#### We want to have 3 gaussian models fitted to our 3 data clusters\n",
    "<br><font color='green' size=\"+0.5\"><b> How to get 3 gaussians to our data randomly? </b></font><br>\n",
    "<br><font color='green' size=\"+0.5\"><b> Expectation Maximization algorithm </b></font>\n"
   ]
  },
  {
   "cell_type": "code",
   "execution_count": 146,
   "metadata": {},
   "outputs": [
    {
     "name": "stdout",
     "output_type": "stream",
     "text": [
      "dkcdk\n"
     ]
    }
   ],
   "source": [
    "# Random Gaussians\n",
    "gauss_1 = norm(loc=-5,scale=5)\n",
    "\n",
    "#  the distribution object can be called (as a function) to fix the shape, location and scale parameters. \n",
    "# This returns a “frozen” RV object holding the given parameters fixed.\n",
    "ax.plot(GMM_data, norm.pdf(GMM_data), 'k-', lw=2, label='frozen pdf')\n",
    "plt.show()\n",
    "print(\"dkcdk\")\n",
    "gauss_2 = norm(loc=8,scale=3)\n",
    "gauss_3 = norm(loc=1.5,scale=1)\n"
   ]
  },
  {
   "cell_type": "code",
   "execution_count": 147,
   "metadata": {},
   "outputs": [
    {
     "name": "stdout",
     "output_type": "stream",
     "text": [
      "[ 0  0  7 ... 17  1  1]\n"
     ]
    },
    {
     "data": {
      "image/png": "[encoded data removed]",
      "text/plain": [
       "<matplotlib.figure.Figure at 0x40158400>"
      ]
     },
     "metadata": {},
     "output_type": "display_data"
    }
   ],
   "source": [
    "from sklearn.mixture import GaussianMixture\n",
    "gmm = GaussianMixture(n_components=20).fit(GMM_data)\n",
    "labels = gmm.predict(GMM_data)\n",
    "print(labels)\n",
    "plt.scatter(GMM_data[:, 0], GMM_data[:, 1], c=labels, s=40, cmap = 'viridis');"
   ]
  },
  {
   "cell_type": "code",
   "execution_count": 149,
   "metadata": {},
   "outputs": [
    {
     "data": {
      "text/html": [
       "<script>requirejs.config({paths: { 'plotly': ['https://cdn.plot.ly/plotly-latest.min']},});if(!window.Plotly) {{require(['plotly'],function(plotly) {window.Plotly=plotly;});}}</script>"
      ],
      "text/vnd.plotly.v1+html": [
       "<script>requirejs.config({paths: { 'plotly': ['https://cdn.plot.ly/plotly-latest.min']},});if(!window.Plotly) {{require(['plotly'],function(plotly) {window.Plotly=plotly;});}}</script>"
      ]
     },
     "metadata": {},
     "output_type": "display_data"
    },
    {
     "data": {
      "text/plain": [
       "'file://C:\\\\Users\\\\maanv\\\\OneDrive\\\\Desktop\\\\Fall 2018\\\\ML\\\\Datasets\\\\Final cluster plot Gaussian Model.html'"
      ]
     },
     "execution_count": 149,
     "metadata": {},
     "output_type": "execute_result"
    }
   ],
   "source": [
    "# Create a trace\n",
    "import plotly\n",
    "init_notebook_mode(connected=True)\n",
    "\n",
    "#py.tools.set_credentials_file(username='manviagarwal', api_key='Pesu@123')\n",
    "\n",
    "trace = go.Scatter(\n",
    "    x=GMM_data[:,0], \n",
    "    y=GMM_data[:,1],\n",
    "    mode='markers',\n",
    "    name='Lines, Markers and Text',\n",
    "    text = new,\n",
    "    textposition='top',\n",
    "    marker=dict(\n",
    "        color = labels,\n",
    "        colorscale='Portland',\n",
    "        showscale=True\n",
    "    )\n",
    ")\n",
    "\n",
    "dataL = [trace]\n",
    "# layout = go.Layout(\n",
    "    \n",
    "# )\n",
    "layout = go.Layout(\n",
    "    autosize=True,\n",
    "    showlegend=False\n",
    ")\n",
    "\n",
    "fig = go.Figure(data=dataL, layout=layout)\n",
    "\n",
    "plotly.offline.plot(dataL,filename='Final cluster plot Gaussian Model.html',auto_open=True)\n",
    "\n",
    "\n"
   ]
  },
  {
   "cell_type": "code",
   "execution_count": 52,
   "metadata": {},
   "outputs": [],
   "source": [
    "# Based on cluster proximity\n",
    "# MIN , MAX AND GROUP AVERAGE\n",
    "# needed imports\n",
    "from matplotlib import pyplot as plt\n",
    "from scipy.cluster.hierarchy import dendrogram, linkage\n",
    "import numpy as np\n",
    "# some setting for this notebook to actually show the graphs inline\n",
    "# you probably won't need this\n",
    "%matplotlib inline\n",
    "np.set_printoptions(precision=5, suppress=True)  # suppress scientific float notation"
   ]
  },
  {
   "cell_type": "code",
   "execution_count": 53,
   "metadata": {},
   "outputs": [],
   "source": [
    "# generate the linkage matrix\n",
    "Z = linkage(data, 'ward')"
   ]
  },
  {
   "cell_type": "code",
   "execution_count": 54,
   "metadata": {},
   "outputs": [
    {
     "data": {
      "image/png": "[encoded data removed]",
      "text/plain": [
       "<matplotlib.figure.Figure at 0x3aa21cc0>"
      ]
     },
     "metadata": {},
     "output_type": "display_data"
    }
   ],
   "source": [
    "plt.title('Hierarchical Clustering Dendrogram (truncated)')\n",
    "plt.xlabel('sample index')\n",
    "plt.ylabel('distance')\n",
    "dendrogram(\n",
    "    Z,\n",
    "    truncate_mode='lastp',  # show only the last p merged clusters\n",
    "    p=12,  # show only the last p merged clusters\n",
    "    show_leaf_counts=False,  # otherwise numbers in brackets are counts\n",
    "    leaf_rotation=90.,\n",
    "    leaf_font_size=12.,\n",
    "    show_contracted=True,  # to get a distribution impression in truncated branches\n",
    ")\n",
    "plt.show()"
   ]
  },
  {
   "cell_type": "markdown",
   "metadata": {},
   "source": [
    "### Normalization and scaling the data"
   ]
  },
  {
   "cell_type": "code",
   "execution_count": 112,
   "metadata": {},
   "outputs": [
    {
     "name": "stdout",
     "output_type": "stream",
     "text": [
      "[[0.0, 1.0], [0.0, 1.0]]\n",
      "[[0.94704 0.50994]\n",
      " [0.93135 0.48524]\n",
      " [0.82421 0.37871]\n",
      " ...\n",
      " [0.9947  0.55596]\n",
      " [0.99998 0.55282]\n",
      " [0.99996 0.55281]]\n"
     ]
    },
    {
     "data": {
      "image/png": "[encoded data removed]",
      "text/plain": [
       "<matplotlib.figure.Figure at 0x3ced00b8>"
      ]
     },
     "metadata": {},
     "output_type": "display_data"
    }
   ],
   "source": [
    "GMM_data = data\n",
    "\n",
    "# Find the min and max values for each column\n",
    "def dataset_minmax(dataset):\n",
    "    minmax = []\n",
    "    for i in range(len(dataset[0])):\n",
    "        col_values = [row[i] for row in dataset]\n",
    "        value_min = min(col_values)\n",
    "        value_max = max(col_values)\n",
    "        minmax.append([value_min, value_max])\n",
    "    return minmax\n",
    " \n",
    "# scaled_value = (value - min) / (max - min)\n",
    "# Calculate min and max for each column\n",
    "minmax = dataset_minmax(GMM_data)\n",
    "print(minmax)\n",
    "\n",
    "def normalize_dataset(dataset, minmax):\n",
    "    for row in dataset:\n",
    "        for i in range(len(row)):\n",
    "            row[i] = (row[i] - minmax[i][0]) / (minmax[i][1] - minmax[i][0])\n",
    "            \n",
    "normalize_dataset(GMM_data, minmax)\n",
    "print(GMM_data)\n",
    "\n",
    "\n",
    "x = GMM_data[:,0]\n",
    "y = GMM_data[:,1]\n",
    "fig = plt.figure()\n",
    "ax = fig.add_subplot(1, 1, 1)\n",
    "ax.scatter(x, y)\n",
    "plt.show()\n",
    "\n"
   ]
  },
  {
   "cell_type": "code",
   "execution_count": 113,
   "metadata": {},
   "outputs": [
    {
     "name": "stdout",
     "output_type": "stream",
     "text": [
      "('Dimensionality', '=', (6820L, 3L))\n",
      "<scipy.stats._distn_infrastructure.rv_frozen object at 0x000000003CE9DC18>\n"
     ]
    }
   ],
   "source": [
    "from scipy.stats import multivariate_normal\n",
    "\n",
    "K = 3 # number of clusters\n",
    "prob = np.zeros((len(GMM_data),K)) # len(data) * number of clusters\n",
    "print('Dimensionality','=',np.shape(r))\n",
    "\n",
    "#Get random Gaussians\n",
    "gauss_1 = norm(loc=0.9,scale=1) \n",
    "gauss_2 = norm(loc=0.6,scale=2)\n",
    "gauss_3 = norm(loc=0.3,scale=1.5)\n",
    "\n",
    "print(gauss_1)"
   ]
  },
  {
   "cell_type": "code",
   "execution_count": 114,
   "metadata": {},
   "outputs": [
    {
     "name": "stdout",
     "output_type": "stream",
     "text": [
      "[(0, <scipy.stats._distn_infrastructure.rv_frozen object at 0x000000003CE9DC18>), (1, <scipy.stats._distn_infrastructure.rv_frozen object at 0x000000003CE9D358>), (2, <scipy.stats._distn_infrastructure.rv_frozen object at 0x0000000008ED7048>)]\n"
     ]
    }
   ],
   "source": [
    "print(zip(range(3),[gauss_1,gauss_2,gauss_3]))"
   ]
  },
  {
   "cell_type": "code",
   "execution_count": 119,
   "metadata": {},
   "outputs": [],
   "source": [
    "# Compute the probability that each data point belongs to a gaussian g\n",
    "# Here we will make a matrix\n",
    "# The matrix is called prob which we initialized before of size #dataPoints x number of clusters = 3\n",
    "# Each matrix value gives the probability of each data point belonging to the cluster i\n",
    "#print(GMM_data)\n",
    "for col,gauss in zip(range(3),[gauss_1,gauss_2,gauss_3]):\n",
    "    # Here write the probability that x belongs to gaussian 1/2/3 in column 1/2/3. \n",
    "    #print(gauss.pdf(GMM_data) )\n",
    "    \n",
    "    # Take the prodeuct of the probabilites of x and y\n",
    "    prob[:,col] = np.prod(gauss.pdf(GMM_data), axis=1)\n",
    "    \n",
    "    # Now we get a 6820 by 3 array with the probability that each point belongs to one of the gaussians\n"
   ]
  },
  {
   "cell_type": "code",
   "execution_count": 129,
   "metadata": {},
   "outputs": [
    {
     "name": "stdout",
     "output_type": "stream",
     "text": [
      "[[0.5886  0.15642 0.25498]\n",
      " [0.58528 0.15711 0.25761]\n",
      " [0.5671  0.16087 0.27203]\n",
      " ...\n",
      " [0.59503 0.15544 0.24952]\n",
      " [0.59489 0.15557 0.24954]\n",
      " [0.59489 0.15557 0.24954]]\n",
      "[1. 1. 1. ... 1. 1. 1.]\n"
     ]
    }
   ],
   "source": [
    "\n",
    "# Normalizing the probability such that each sum = 1\n",
    "for i in range(len(prob)):\n",
    "    prob[i] = prob[i]/np.sum(prob,axis=1)[i]\n",
    "print(prob)\n",
    "print(np.sum(prob,axis=1))"
   ]
  },
  {
   "cell_type": "markdown",
   "metadata": {},
   "source": [
    "### So far we have the probilities of each point corresponding to the each gaussian model"
   ]
  },
  {
   "cell_type": "code",
   "execution_count": 124,
   "metadata": {},
   "outputs": [],
   "source": [
    "# Now we want the likelihood probabilities"
   ]
  },
  {
   "cell_type": "code",
   "execution_count": 137,
   "metadata": {},
   "outputs": [
    {
     "name": "stdout",
     "output_type": "stream",
     "text": [
      "[0.33333 0.33333 0.33333]\n",
      "[[0.04911 0.01305 0.02127]\n",
      " [0.04866 0.01306 0.02142]\n",
      " [0.04618 0.0131  0.02215]\n",
      " ...\n",
      " [0.04978 0.013   0.02087]\n",
      " [0.0497  0.013   0.02085]\n",
      " [0.0497  0.013   0.02085]]\n"
     ]
    }
   ],
   "source": [
    "# Random pi_c\n",
    "from __future__ import division\n",
    "pi = np.array([1/3,1/3,1/3]) # We expect to have three clusters \n",
    "print(pi)\n",
    "prob_new = np.zeros((len(GMM_data),K)) # len(data) * number of clusters\n",
    "\n",
    "# Probability that each data point belongs to gaussian g\n",
    "for col,gauss,pic in zip(range(3),[gauss_1,gauss_2,gauss_3],pi):\n",
    "    prob_new[:,col] = pic*np.prod(gauss.pdf(GMM_data), axis=1) \n",
    "print(prob_new)"
   ]
  },
  {
   "cell_type": "code",
   "execution_count": 139,
   "metadata": {},
   "outputs": [
    {
     "name": "stdout",
     "output_type": "stream",
     "text": [
      "[1. 1. 1. ... 1. 1. 1.]\n"
     ]
    }
   ],
   "source": [
    "# Normalize the probabilities such that each row of r sums to 1 and weight it by pi_c == the fraction of points belonging to \n",
    "#cluster c\n",
    "for i in range(len(prob_new)):\n",
    "    prob_new[i] = prob_new[i]/(np.sum(pi)*np.sum(prob_new,axis=1)[i])\n",
    "print(np.sum(prob_new,axis=1))"
   ]
  },
  {
   "cell_type": "code",
   "execution_count": 141,
   "metadata": {},
   "outputs": [
    {
     "name": "stdout",
     "output_type": "stream",
     "text": [
      "0.9470420031358244\n"
     ]
    },
    {
     "data": {
      "image/png": "[encoded data removed]",
      "text/plain": [
       "<matplotlib.figure.Figure at 0x38e6b160>"
      ]
     },
     "metadata": {},
     "output_type": "display_data"
    },
    {
     "data": {
      "text/plain": [
       "<matplotlib.figure.Figure at 0x38e53d30>"
      ]
     },
     "metadata": {},
     "output_type": "display_data"
    }
   ],
   "source": [
    "\"\"\"Plot the data\"\"\"\n",
    "fig = plt.figure(figsize=(10,10))\n",
    "ax0 = fig.add_subplot(111)\n",
    "ax0.scatter(GMM_data[:,0],GMM_data[:,1])\n",
    "fig = plt.figure()\n",
    "for i in range(len(prob_new)):\n",
    "    \n",
    "    ax0.scatter(GMM_data[i][0],GMM_data[i][1],c=np.array([prob_new[i][0],prob_new[i][1],prob_new[i][2]]),s=100) \n",
    "    # We have defined the first column as red, the second as\n",
    "                                                                        # green and the third as blue\n",
    "for g,c in zip([gauss_1.pdf(np.linspace(-15,15)),gauss_2.pdf(np.linspace(-15,15)),gauss_3.pdf(np.linspace(-15,15))],['r','g','b']):\n",
    "    ax0.plot(np.linspace(-15,15),g,c=c,zorder=0)\n",
    "    \n",
    "    \n",
    "plt.show()"
   ]
  },
  {
   "cell_type": "markdown",
   "metadata": {},
   "source": []
  },
  {
   "cell_type": "code",
   "execution_count": null,
   "metadata": {},
   "outputs": [],
   "source": []
  },
  {
   "cell_type": "code",
   "execution_count": null,
   "metadata": {},
   "outputs": [],
   "source": []
  }
 ],
 "metadata": {
  "kernelspec": {
   "display_name": "Python 2",
   "language": "python",
   "name": "python2"
  },
  "language_info": {
   "codemirror_mode": {
    "name": "ipython",
    "version": 2
   },
   "file_extension": ".py",
   "mimetype": "text/x-python",
   "name": "python",
   "nbconvert_exporter": "python",
   "pygments_lexer": "ipython2",
   "version": "2.7.14"
  }
 },
 "nbformat": 4,
 "nbformat_minor": 2
}
