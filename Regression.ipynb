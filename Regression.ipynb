{
 "cells": [
  {
   "cell_type": "code",
   "execution_count": 1,
   "metadata": {},
   "outputs": [],
   "source": [
    "import pandas as pd\n",
    "import numpy as np\n",
    "import matplotlib.pyplot as plt\n",
    "from sklearn.svm import SVR"
   ]
  },
  {
   "cell_type": "code",
   "execution_count": 2,
   "metadata": {},
   "outputs": [],
   "source": [
    "#Data Preprocessing\n",
    "df= pd.read_csv(\"./prices-split-adjusted.csv\")\n",
    "symbols = df['symbol'].unique()\n",
    "google = df.loc[df['symbol'] == 'GOOG']\n",
    "closing = google[['close']]\n",
    "dates = google[['date']]\n",
    "metrics = google.drop(['symbol','close','date'],axis=1)"
   ]
  },
  {
   "cell_type": "code",
   "execution_count": 3,
   "metadata": {},
   "outputs": [
    {
     "name": "stderr",
     "output_type": "stream",
     "text": [
      "/anaconda3/lib/python3.6/site-packages/ipykernel_launcher.py:2: FutureWarning: Method .as_matrix will be removed in a future version. Use .values instead.\n",
      "  \n",
      "/anaconda3/lib/python3.6/site-packages/ipykernel_launcher.py:8: FutureWarning: Method .as_matrix will be removed in a future version. Use .values instead.\n",
      "  \n"
     ]
    }
   ],
   "source": [
    "#Split Training and Test Set\n",
    "features = metrics.as_matrix()\n",
    "augmented = np.ones((1762,5))\n",
    "for i in range(0,1762):\n",
    "    for j in range(0,4):\n",
    "        augmented[i,j] = features[i,j]\n",
    "        \n",
    "closingPrice = closing.as_matrix()\n",
    "closingValues = np.zeros((1762,1))\n",
    "for i in range(0,1762):\n",
    "    closingValues[i,0] = closingPrice[i,0]\n",
    "    \n",
    "train = augmented[0:1322]\n",
    "closingTrain = closingValues[0:1322]\n",
    "test = augmented[1322:1762]\n",
    "closingTest = closingValues[1322:1762]\n",
    "trainDates = dates[0:1322]\n",
    "testDates = dates[1322:1762]"
   ]
  },
  {
   "cell_type": "code",
   "execution_count": 4,
   "metadata": {},
   "outputs": [
    {
     "name": "stdout",
     "output_type": "stream",
     "text": [
      "74.13522664114898\n"
     ]
    }
   ],
   "source": [
    "#Least Squares Regression\n",
    "train_T = train.T\n",
    "w_LS = np.matmul((np.matmul(np.linalg.inv(np.matmul(train_T,train)),train_T)),closingTrain)\n",
    "y_pred = test @ w_LS\n",
    "error = np.linalg.norm(y_pred-closingTest,2)\n",
    "print(error)"
   ]
  },
  {
   "cell_type": "code",
   "execution_count": 5,
   "metadata": {},
   "outputs": [
    {
     "name": "stdout",
     "output_type": "stream",
     "text": [
      "[[-5.75766695e-01]\n",
      " [ 7.99770061e-01]\n",
      " [ 7.77560048e-01]\n",
      " [ 2.84275075e-08]\n",
      " [-4.98542843e-01]]\n"
     ]
    }
   ],
   "source": [
    "#Calculate w for training set- LS Regression\n",
    "def LSRegression(trainData,trainLabels):\n",
    "    leastSquares = ((np.linalg.inv(trainData.T@trainData)@trainData.T)@trainLabels)\n",
    "    y_hat = trainData@leastSquares\n",
    "    return leastSquares\n",
    "print(LSRegression(train,closingTrain))"
   ]
  },
  {
   "cell_type": "code",
   "execution_count": 6,
   "metadata": {},
   "outputs": [
    {
     "name": "stdout",
     "output_type": "stream",
     "text": [
      "5182.294949902059\n"
     ]
    }
   ],
   "source": [
    "#Compute Least Squares Error\n",
    "def LSError(actual,predicted):\n",
    "    error = np.linalg.norm(actual-predicted,2)**2\n",
    "    return error\n",
    "pred = train@LSRegression(train,closingTrain)\n",
    "print(LSError(closingTrain,pred))"
   ]
  },
  {
   "cell_type": "code",
   "execution_count": 7,
   "metadata": {},
   "outputs": [
    {
     "data": {
      "text/plain": [
       "21.177198897654193"
      ]
     },
     "execution_count": 7,
     "metadata": {},
     "output_type": "execute_result"
    },
    {
     "data": {
      "image/png": "[encoded data removed]",
      "text/plain": [
       "<Figure size 432x288 with 1 Axes>"
      ]
     },
     "metadata": {},
     "output_type": "display_data"
    }
   ],
   "source": [
    "def LeastSquares_CV(trainData,trainLabels,folds):\n",
    "    #Split training data and training labels\n",
    "    splitData = np.array_split(trainData,folds)\n",
    "    splitLabels = np.array_split(trainLabels,folds)\n",
    "    predError = 0\n",
    "    colorList = ['ro','bo','go','yo','co']\n",
    "    labels = ['Fold 1','Fold 2','Fold 3','Fold 4','Fold 5']\n",
    "    #Cross Validation\n",
    "    for i in range(folds):\n",
    "        dataset = list()\n",
    "        dataLabels = list()\n",
    "        #Test Set\n",
    "        testData = splitData[i]\n",
    "        testLabels = splitLabels[i]\n",
    "        for j in range(folds):\n",
    "            if(i==j):\n",
    "                continue\n",
    "            dataset.extend(splitData[j])\n",
    "            dataLabels.extend(splitLabels[j])\n",
    "        dataset = np.asarray(dataset)\n",
    "        dataLabels = np.asarray(dataLabels)\n",
    "        \n",
    "        #Compute w_hat and y_hat for test set\n",
    "        w_hat = LSRegression(dataset,dataLabels)\n",
    "        predicted = testData@w_hat\n",
    "        error = LSError(testLabels, predicted)\n",
    "        \n",
    "        #Avg Error\n",
    "        predError = predError + error\n",
    "        plt.plot(testLabels,predicted,colorList[i],label = labels[i])\n",
    "        plt.xlabel('Actual')\n",
    "        plt.ylabel('Predicted')\n",
    "        #Line with slope=1\n",
    "        x = np.linspace(0,50,100)\n",
    "        y = x\n",
    "        plt.plot(x,y)\n",
    "        avgError = predError/506\n",
    "    plt.legend()\n",
    "    return avgError\n",
    "\n",
    "LeastSquares_CV(augmented,closingPrice,5)"
   ]
  },
  {
   "cell_type": "code",
   "execution_count": 8,
   "metadata": {},
   "outputs": [],
   "source": [
    "#Calculate w for training set- Ridge Regression\n",
    "def RidgeRegression(trainData,trainLabels,regParam):\n",
    "    ridgeA = np.linalg.inv(trainData.T@trainData)\n",
    "    identity = np.identity(len(ridgeA))\n",
    "    ridge = np.linalg.inv(trainData.T@trainData + (regParam*identity))@trainData.T@trainLabels\n",
    "    return ridge\n",
    "w_rr = RidgeRegression(train,closingTrain,.01)\n",
    "y = train @ w_rr"
   ]
  },
  {
   "cell_type": "code",
   "execution_count": 9,
   "metadata": {},
   "outputs": [
    {
     "data": {
      "text/plain": [
       "5182.294950438639"
      ]
     },
     "execution_count": 9,
     "metadata": {},
     "output_type": "execute_result"
    }
   ],
   "source": [
    "#Compute Ridge Regression Error\n",
    "def RidgeError(actual,predicted):\n",
    "    error = np.linalg.norm(actual-predicted,2)**2\n",
    "    return error\n",
    "RidgeError(closingTrain,y)"
   ]
  },
  {
   "cell_type": "code",
   "execution_count": 12,
   "metadata": {},
   "outputs": [
    {
     "data": {
      "text/plain": [
       "21.17551437703888"
      ]
     },
     "execution_count": 12,
     "metadata": {},
     "output_type": "execute_result"
    },
    {
     "data": {
      "image/png": "[encoded data removed]",
      "text/plain": [
       "<Figure size 432x288 with 1 Axes>"
      ]
     },
     "metadata": {},
     "output_type": "display_data"
    }
   ],
   "source": [
    "def RR_CV(coefficients,actual,folds,regParam):\n",
    "    #Split training data and training labels\n",
    "    splitData = np.array_split(coefficients,folds)\n",
    "    splitLabels = np.array_split(actual,folds)\n",
    "    predError = 0\n",
    "    colorList = ['ro','bo','go','yo','co']\n",
    "    labels = ['Fold 1','Fold 2','Fold 3','Fold 4','Fold 5']\n",
    "    #Cross Validation\n",
    "    for i in range(folds):\n",
    "        dataset = list()\n",
    "        dataLabels = list()\n",
    "        #Test Set\n",
    "        testData = splitData[i]\n",
    "        testLabels = splitLabels[i]\n",
    "        for j in range(folds):\n",
    "            if(i==j):\n",
    "                continue\n",
    "            dataset.extend(splitData[j])\n",
    "            dataLabels.extend(splitLabels[j])\n",
    "        dataset = np.asarray(dataset)\n",
    "        dataLabels = np.asarray(dataLabels)\n",
    "        \n",
    "        #Compute w_hat and y_hat for test set\n",
    "        w_hat = RidgeRegression(dataset,dataLabels,regParam)\n",
    "        predicted = testData@w_hat\n",
    "        error = RidgeError(testLabels, predicted)\n",
    "        \n",
    "        #Avg Error\n",
    "        predError = predError + error\n",
    "        avgError = predError/506\n",
    "        plt.plot(testLabels,predicted,colorList[i],label = labels[i])\n",
    "        plt.xlabel('Actual')\n",
    "        plt.ylabel('Predicted')\n",
    "        #Line with slope=1\n",
    "        x = np.linspace(0,50,100)\n",
    "        y = x\n",
    "        plt.plot(x,y)\n",
    "        avgError = predError/506\n",
    "    plt.legend()\n",
    "    return avgError\n",
    "\n",
    "RR_CV(augmented,closingValues,5,1)"
   ]
  },
  {
   "cell_type": "code",
   "execution_count": null,
   "metadata": {},
   "outputs": [],
   "source": []
  }
 ],
 "metadata": {
  "kernelspec": {
   "display_name": "Python 3",
   "language": "python",
   "name": "python3"
  },
  "language_info": {
   "codemirror_mode": {
    "name": "ipython",
    "version": 3
   },
   "file_extension": ".py",
   "mimetype": "text/x-python",
   "name": "python",
   "nbconvert_exporter": "python",
   "pygments_lexer": "ipython3",
   "version": "3.6.5"
  }
 },
 "nbformat": 4,
 "nbformat_minor": 2
}
